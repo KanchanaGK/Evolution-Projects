{
 "cells": [
  {
   "cell_type": "code",
   "execution_count": 71,
   "id": "40cab4ec",
   "metadata": {},
   "outputs": [
    {
     "name": "stdout",
     "output_type": "stream",
     "text": [
      "Missing Values:\n",
      "Restaurant ID           0\n",
      "Restaurant Name         0\n",
      "Country Code            0\n",
      "City                    0\n",
      "Address                 0\n",
      "Locality                0\n",
      "Locality Verbose        0\n",
      "Longitude               0\n",
      "Latitude                0\n",
      "Cuisines                9\n",
      "Average Cost for two    0\n",
      "Currency                0\n",
      "Has Table booking       0\n",
      "Has Online delivery     0\n",
      "Is delivering now       0\n",
      "Switch to order menu    0\n",
      "Price range             0\n",
      "Aggregate rating        0\n",
      "Rating color            0\n",
      "Rating text             0\n",
      "Votes                   0\n",
      "Country                 0\n",
      "dtype: int64\n",
      "   Restaurant ID         Restaurant Name  Country Code              City  \\\n",
      "0        6317637        Le Petit Souffle           162       Makati City   \n",
      "1        6304287        Izakaya Kikufuji           162       Makati City   \n",
      "2        6300002  Heat - Edsa Shangri-La           162  Mandaluyong City   \n",
      "3        6318506                    Ooma           162  Mandaluyong City   \n",
      "4        6314302             Sambo Kojin           162  Mandaluyong City   \n",
      "\n",
      "                                             Address  \\\n",
      "0  Third Floor, Century City Mall, Kalayaan Avenu...   \n",
      "1  Little Tokyo, 2277 Chino Roces Avenue, Legaspi...   \n",
      "2  Edsa Shangri-La, 1 Garden Way, Ortigas, Mandal...   \n",
      "3  Third Floor, Mega Fashion Hall, SM Megamall, O...   \n",
      "4  Third Floor, Mega Atrium, SM Megamall, Ortigas...   \n",
      "\n",
      "                                     Locality  \\\n",
      "0   Century City Mall, Poblacion, Makati City   \n",
      "1  Little Tokyo, Legaspi Village, Makati City   \n",
      "2  Edsa Shangri-La, Ortigas, Mandaluyong City   \n",
      "3      SM Megamall, Ortigas, Mandaluyong City   \n",
      "4      SM Megamall, Ortigas, Mandaluyong City   \n",
      "\n",
      "                                    Locality Verbose   Longitude   Latitude  \\\n",
      "0  Century City Mall, Poblacion, Makati City, Mak...  121.027535  14.565443   \n",
      "1  Little Tokyo, Legaspi Village, Makati City, Ma...  121.014101  14.553708   \n",
      "2  Edsa Shangri-La, Ortigas, Mandaluyong City, Ma...  121.056831  14.581404   \n",
      "3  SM Megamall, Ortigas, Mandaluyong City, Mandal...  121.056475  14.585318   \n",
      "4  SM Megamall, Ortigas, Mandaluyong City, Mandal...  121.057508  14.584450   \n",
      "\n",
      "   Average Cost for two  ... Teriyaki  Tex-Mex  Thai  Tibetan Turkish  \\\n",
      "0                  1100  ...        0        0     0        0       0   \n",
      "1                  1200  ...        0        0     0        0       0   \n",
      "2                  4000  ...        0        0     0        0       0   \n",
      "3                  1500  ...        0        0     0        0       0   \n",
      "4                  1500  ...        0        0     0        0       0   \n",
      "\n",
      "   Turkish Pizza  Vegetarian  Vietnamese  Western  World Cuisine  \n",
      "0              0           0           0        0              0  \n",
      "1              0           0           0        0              0  \n",
      "2              0           0           0        0              0  \n",
      "3              0           0           0        0              0  \n",
      "4              0           0           0        0              0  \n",
      "\n",
      "[5 rows x 174 columns]\n"
     ]
    }
   ],
   "source": [
    "# Importing necessary libraries\n",
    "import pandas as pd\n",
    "import numpy as np\n",
    "import matplotlib.pyplot as plt\n",
    "import seaborn as sns\n",
    "from sklearn.model_selection import train_test_split\n",
    "from sklearn.linear_model import LinearRegression\n",
    "from sklearn.ensemble import RandomForestRegressor\n",
    "from sklearn.metrics import mean_squared_error, r2_score\n",
    "from sklearn.preprocessing import OneHotEncoder\n",
    "from sklearn.compose import ColumnTransformer\n",
    "from sklearn.pipeline import Pipeline\n",
    "from sklearn.impute import SimpleImputer\n",
    "\n",
    "# Load the datasets\n",
    "zomato_df = pd.read_csv('https://raw.githubusercontent.com/dsrscientist/dataset4/main/zomato.csv', encoding='latin1')\n",
    "country_code_df = pd.read_excel('https://github.com/dsrscientist/dataset4/raw/main/Country-Code.xlsx')\n",
    "\n",
    "# Merge datasets based on 'Country Code'\n",
    "zomato_df_merged = pd.merge(zomato_df, country_code_df, on='Country Code', how='left')\n",
    "\n",
    "# Check for missing values\n",
    "print(\"Missing Values:\")\n",
    "print(zomato_df_merged.isnull().sum())\n",
    "\n",
    "# Fill missing values in 'Cuisines' column with a placeholder value\n",
    "zomato_df_merged['Cuisines'].fillna('Not Available', inplace=True)\n",
    "\n",
    "# Convert categorical variables into numerical format using one-hot encoding\n",
    "zomato_df_encoded = pd.get_dummies(zomato_df_merged, columns=['Has Table booking', 'Has Online delivery', 'Is delivering now', 'Switch to order menu', 'Rating color', 'Rating text'], drop_first=True)\n",
    "\n",
    "# Split the 'Cuisines' column into separate binary columns using one-hot encoding\n",
    "cuisines_encoded = zomato_df_encoded['Cuisines'].str.get_dummies(sep=', ')\n",
    "\n",
    "# Concatenate the one-hot encoded features with the original dataset\n",
    "zomato_df_encoded = pd.concat([zomato_df_encoded, cuisines_encoded], axis=1)\n",
    "\n",
    "# Drop the original 'Cuisines' column\n",
    "zomato_df_encoded.drop('Cuisines', axis=1, inplace=True)\n",
    "\n",
    "# Verify the changes\n",
    "print(zomato_df_encoded.head())"
   ]
  },
  {
   "cell_type": "code",
   "execution_count": 73,
   "id": "988414f8",
   "metadata": {},
   "outputs": [
    {
     "name": "stdout",
     "output_type": "stream",
     "text": [
      "Index(['Restaurant ID', 'Restaurant Name', 'Country Code', 'City', 'Address',\n",
      "       'Locality', 'Locality Verbose', 'Longitude', 'Latitude',\n",
      "       'Average Cost for two',\n",
      "       ...\n",
      "       'Teriyaki', 'Tex-Mex', 'Thai', 'Tibetan', 'Turkish', 'Turkish Pizza',\n",
      "       'Vegetarian', 'Vietnamese', 'Western', 'World Cuisine'],\n",
      "      dtype='object', length=174)\n"
     ]
    }
   ],
   "source": [
    "# Print column names of the DataFrame\n",
    "print(zomato_df_encoded.columns)"
   ]
  },
  {
   "cell_type": "code",
   "execution_count": 74,
   "id": "d814c97d",
   "metadata": {},
   "outputs": [],
   "source": [
    "# Define features (X) and target variable (y)\n",
    "X = zomato_df_encoded.drop(['Restaurant ID', 'Restaurant Name', 'Country Code', 'City', 'Address', 'Locality', 'Locality Verbose', 'Currency'], axis=1)\n",
    "y = zomato_df_encoded['Aggregate rating']\n",
    "\n",
    "# Split the data into training and testing sets\n",
    "X_train, X_test, y_train, y_test = train_test_split(X, y, test_size=0.2, random_state=42)"
   ]
  },
  {
   "cell_type": "code",
   "execution_count": 75,
   "id": "5c6fcd2f",
   "metadata": {},
   "outputs": [],
   "source": [
    "# Initialize Linear Regression model\n",
    "linear_reg_model = LinearRegression()"
   ]
  },
  {
   "cell_type": "code",
   "execution_count": 78,
   "id": "32d8e47e",
   "metadata": {},
   "outputs": [
    {
     "name": "stdout",
     "output_type": "stream",
     "text": [
      "Index(['Restaurant ID', 'Restaurant Name', 'Country Code', 'City', 'Address',\n",
      "       'Locality', 'Locality Verbose', 'Longitude', 'Latitude',\n",
      "       'Average Cost for two',\n",
      "       ...\n",
      "       'Country_New Zealand', 'Country_Phillipines', 'Country_Qatar',\n",
      "       'Country_Singapore', 'Country_South Africa', 'Country_Sri Lanka',\n",
      "       'Country_Turkey', 'Country_UAE', 'Country_United Kingdom',\n",
      "       'Country_United States'],\n",
      "      dtype='object', length=187)\n"
     ]
    }
   ],
   "source": [
    "# Print column names of the DataFrame\n",
    "print(zomato_df_encoded.columns)"
   ]
  },
  {
   "cell_type": "code",
   "execution_count": 79,
   "id": "490aecff",
   "metadata": {},
   "outputs": [],
   "source": [
    "# Define features (X) and target variable (y)\n",
    "X = zomato_df_encoded.drop(['Restaurant ID', 'Restaurant Name', 'Country Code', 'City', 'Address', 'Locality', 'Locality Verbose', 'Currency'], axis=1)\n",
    "y = zomato_df_encoded['Aggregate rating']"
   ]
  },
  {
   "cell_type": "code",
   "execution_count": 80,
   "id": "9693d37d",
   "metadata": {},
   "outputs": [
    {
     "data": {
      "text/html": [
       "<style>#sk-container-id-1 {color: black;background-color: white;}#sk-container-id-1 pre{padding: 0;}#sk-container-id-1 div.sk-toggleable {background-color: white;}#sk-container-id-1 label.sk-toggleable__label {cursor: pointer;display: block;width: 100%;margin-bottom: 0;padding: 0.3em;box-sizing: border-box;text-align: center;}#sk-container-id-1 label.sk-toggleable__label-arrow:before {content: \"▸\";float: left;margin-right: 0.25em;color: #696969;}#sk-container-id-1 label.sk-toggleable__label-arrow:hover:before {color: black;}#sk-container-id-1 div.sk-estimator:hover label.sk-toggleable__label-arrow:before {color: black;}#sk-container-id-1 div.sk-toggleable__content {max-height: 0;max-width: 0;overflow: hidden;text-align: left;background-color: #f0f8ff;}#sk-container-id-1 div.sk-toggleable__content pre {margin: 0.2em;color: black;border-radius: 0.25em;background-color: #f0f8ff;}#sk-container-id-1 input.sk-toggleable__control:checked~div.sk-toggleable__content {max-height: 200px;max-width: 100%;overflow: auto;}#sk-container-id-1 input.sk-toggleable__control:checked~label.sk-toggleable__label-arrow:before {content: \"▾\";}#sk-container-id-1 div.sk-estimator input.sk-toggleable__control:checked~label.sk-toggleable__label {background-color: #d4ebff;}#sk-container-id-1 div.sk-label input.sk-toggleable__control:checked~label.sk-toggleable__label {background-color: #d4ebff;}#sk-container-id-1 input.sk-hidden--visually {border: 0;clip: rect(1px 1px 1px 1px);clip: rect(1px, 1px, 1px, 1px);height: 1px;margin: -1px;overflow: hidden;padding: 0;position: absolute;width: 1px;}#sk-container-id-1 div.sk-estimator {font-family: monospace;background-color: #f0f8ff;border: 1px dotted black;border-radius: 0.25em;box-sizing: border-box;margin-bottom: 0.5em;}#sk-container-id-1 div.sk-estimator:hover {background-color: #d4ebff;}#sk-container-id-1 div.sk-parallel-item::after {content: \"\";width: 100%;border-bottom: 1px solid gray;flex-grow: 1;}#sk-container-id-1 div.sk-label:hover label.sk-toggleable__label {background-color: #d4ebff;}#sk-container-id-1 div.sk-serial::before {content: \"\";position: absolute;border-left: 1px solid gray;box-sizing: border-box;top: 0;bottom: 0;left: 50%;z-index: 0;}#sk-container-id-1 div.sk-serial {display: flex;flex-direction: column;align-items: center;background-color: white;padding-right: 0.2em;padding-left: 0.2em;position: relative;}#sk-container-id-1 div.sk-item {position: relative;z-index: 1;}#sk-container-id-1 div.sk-parallel {display: flex;align-items: stretch;justify-content: center;background-color: white;position: relative;}#sk-container-id-1 div.sk-item::before, #sk-container-id-1 div.sk-parallel-item::before {content: \"\";position: absolute;border-left: 1px solid gray;box-sizing: border-box;top: 0;bottom: 0;left: 50%;z-index: -1;}#sk-container-id-1 div.sk-parallel-item {display: flex;flex-direction: column;z-index: 1;position: relative;background-color: white;}#sk-container-id-1 div.sk-parallel-item:first-child::after {align-self: flex-end;width: 50%;}#sk-container-id-1 div.sk-parallel-item:last-child::after {align-self: flex-start;width: 50%;}#sk-container-id-1 div.sk-parallel-item:only-child::after {width: 0;}#sk-container-id-1 div.sk-dashed-wrapped {border: 1px dashed gray;margin: 0 0.4em 0.5em 0.4em;box-sizing: border-box;padding-bottom: 0.4em;background-color: white;}#sk-container-id-1 div.sk-label label {font-family: monospace;font-weight: bold;display: inline-block;line-height: 1.2em;}#sk-container-id-1 div.sk-label-container {text-align: center;}#sk-container-id-1 div.sk-container {/* jupyter's `normalize.less` sets `[hidden] { display: none; }` but bootstrap.min.css set `[hidden] { display: none !important; }` so we also need the `!important` here to be able to override the default hidden behavior on the sphinx rendered scikit-learn.org. See: https://github.com/scikit-learn/scikit-learn/issues/21755 */display: inline-block !important;position: relative;}#sk-container-id-1 div.sk-text-repr-fallback {display: none;}</style><div id=\"sk-container-id-1\" class=\"sk-top-container\"><div class=\"sk-text-repr-fallback\"><pre>LinearRegression()</pre><b>In a Jupyter environment, please rerun this cell to show the HTML representation or trust the notebook. <br />On GitHub, the HTML representation is unable to render, please try loading this page with nbviewer.org.</b></div><div class=\"sk-container\" hidden><div class=\"sk-item\"><div class=\"sk-estimator sk-toggleable\"><input class=\"sk-toggleable__control sk-hidden--visually\" id=\"sk-estimator-id-1\" type=\"checkbox\" checked><label for=\"sk-estimator-id-1\" class=\"sk-toggleable__label sk-toggleable__label-arrow\">LinearRegression</label><div class=\"sk-toggleable__content\"><pre>LinearRegression()</pre></div></div></div></div></div>"
      ],
      "text/plain": [
       "LinearRegression()"
      ]
     },
     "execution_count": 80,
     "metadata": {},
     "output_type": "execute_result"
    }
   ],
   "source": [
    "# Split the data into training and testing sets\n",
    "X_train, X_test, y_train, y_test = train_test_split(X, y, test_size=0.2, random_state=42)\n",
    "\n",
    "# Initialize Linear Regression model\n",
    "linear_reg_model = LinearRegression()\n",
    "\n",
    "# Fit the model on the training data\n",
    "linear_reg_model.fit(X_train, y_train)"
   ]
  },
  {
   "cell_type": "code",
   "execution_count": 81,
   "id": "fd17df63",
   "metadata": {},
   "outputs": [
    {
     "name": "stdout",
     "output_type": "stream",
     "text": [
      "Mean Squared Error: 6.3354541835111265e-24\n",
      "R-squared Score: 1.0\n"
     ]
    }
   ],
   "source": [
    "# Predict the target variable on the testing data\n",
    "y_pred = linear_reg_model.predict(X_test)\n",
    "\n",
    "# Evaluate the model\n",
    "mse = mean_squared_error(y_test, y_pred)\n",
    "r2 = r2_score(y_test, y_pred)\n",
    "\n",
    "print(\"Mean Squared Error:\", mse)\n",
    "print(\"R-squared Score:\", r2)"
   ]
  },
  {
   "cell_type": "code",
   "execution_count": 82,
   "id": "4235d0e5",
   "metadata": {},
   "outputs": [],
   "source": [
    "from sklearn.model_selection import cross_val_score\n",
    "from sklearn.linear_model import RidgeCV, LassoCV"
   ]
  },
  {
   "cell_type": "code",
   "execution_count": 83,
   "id": "e832216b",
   "metadata": {},
   "outputs": [],
   "source": [
    "k = 5\n",
    "\n",
    "# Perform k-fold cross-validation for Linear Regression\n",
    "cv_scores_linear = cross_val_score(LinearRegression(), X_train, y_train, cv=k, scoring='neg_mean_squared_error')\n",
    "cv_scores_linear = -cv_scores_linear  # convert negative scores to positive\n"
   ]
  },
  {
   "cell_type": "code",
   "execution_count": 84,
   "id": "48c78a0b",
   "metadata": {},
   "outputs": [],
   "source": [
    "# Perform k-fold cross-validation for Ridge Regression\n",
    "cv_scores_ridge = cross_val_score(RidgeCV(), X_train, y_train, cv=k, scoring='neg_mean_squared_error')\n",
    "cv_scores_ridge = -cv_scores_ridge  # convert negative scores to positive\n"
   ]
  },
  {
   "cell_type": "code",
   "execution_count": 85,
   "id": "5c192413",
   "metadata": {},
   "outputs": [],
   "source": [
    "# Perform k-fold cross-validation for Lasso Regression\n",
    "cv_scores_lasso = cross_val_score(LassoCV(), X_train, y_train, cv=k, scoring='neg_mean_squared_error')\n",
    "cv_scores_lasso = -cv_scores_lasso  # convert negative scores to positive\n"
   ]
  },
  {
   "cell_type": "code",
   "execution_count": 86,
   "id": "0654e879",
   "metadata": {},
   "outputs": [
    {
     "name": "stdout",
     "output_type": "stream",
     "text": [
      "Average Cross-Validation MSE (Linear Regression): 4.67339152391852e-24\n",
      "Average Cross-Validation MSE (Ridge Regression): 2.014110849621547e-06\n",
      "Average Cross-Validation MSE (Lasso Regression): 0.7158917892449347\n"
     ]
    }
   ],
   "source": [
    "print(\"Average Cross-Validation MSE (Linear Regression):\", np.mean(cv_scores_linear))\n",
    "print(\"Average Cross-Validation MSE (Ridge Regression):\", np.mean(cv_scores_ridge))\n",
    "print(\"Average Cross-Validation MSE (Lasso Regression):\", np.mean(cv_scores_lasso))\n"
   ]
  },
  {
   "cell_type": "code",
   "execution_count": 87,
   "id": "b64d5692",
   "metadata": {},
   "outputs": [],
   "source": [
    "# Calculate R-squared and RMSE on the test set for Linear Regression\n",
    "y_pred_linear = linear_reg_model.predict(X_test)\n",
    "r2_linear = r2_score(y_test, y_pred_linear)\n",
    "mse_linear = mean_squared_error(y_test, y_pred_linear)\n",
    "rmse_linear = np.sqrt(mse_linear)"
   ]
  },
  {
   "cell_type": "code",
   "execution_count": 88,
   "id": "e5d38490",
   "metadata": {},
   "outputs": [
    {
     "name": "stdout",
     "output_type": "stream",
     "text": [
      "\n",
      "Linear Regression Test Set Metrics:\n",
      "R-squared Score: 1.0\n",
      "Root Mean Squared Error: 2.5170328133560607e-12\n"
     ]
    }
   ],
   "source": [
    "print(\"\\nLinear Regression Test Set Metrics:\")\n",
    "print(\"R-squared Score:\", r2_linear)\n",
    "print(\"Root Mean Squared Error:\", rmse_linear)\n"
   ]
  },
  {
   "cell_type": "code",
   "execution_count": 89,
   "id": "36386f5a",
   "metadata": {},
   "outputs": [],
   "source": [
    "ridge_model = RidgeCV().fit(X_train, y_train)\n",
    "lasso_model = LassoCV().fit(X_train, y_train)"
   ]
  },
  {
   "cell_type": "code",
   "execution_count": 90,
   "id": "7fcee191",
   "metadata": {},
   "outputs": [
    {
     "name": "stdout",
     "output_type": "stream",
     "text": [
      "\n",
      "Optimal Alpha (Ridge): 0.1\n",
      "Optimal Alpha (Lasso): 1.213848110268016\n"
     ]
    }
   ],
   "source": [
    "print(\"\\nOptimal Alpha (Ridge):\", ridge_model.alpha_)\n",
    "print(\"Optimal Alpha (Lasso):\", lasso_model.alpha_)"
   ]
  },
  {
   "cell_type": "code",
   "execution_count": 91,
   "id": "a9e31916",
   "metadata": {},
   "outputs": [],
   "source": [
    "ridge_model = RidgeCV(alphas=[ridge_model.alpha_]).fit(X_train, y_train)\n",
    "y_pred_ridge = ridge_model.predict(X_test)\n",
    "r2_ridge = r2_score(y_test, y_pred_ridge)\n",
    "mse_ridge = mean_squared_error(y_test, y_pred_ridge)\n",
    "rmse_ridge = np.sqrt(mse_ridge)"
   ]
  },
  {
   "cell_type": "code",
   "execution_count": 92,
   "id": "c1a244b7",
   "metadata": {},
   "outputs": [
    {
     "name": "stdout",
     "output_type": "stream",
     "text": [
      "\n",
      "Ridge Regression Test Set Metrics:\n",
      "R-squared Score: 0.9999944550626075\n",
      "Root Mean Squared Error: 0.0035525880495274045\n"
     ]
    }
   ],
   "source": [
    "print(\"\\nRidge Regression Test Set Metrics:\")\n",
    "print(\"R-squared Score:\", r2_ridge)\n",
    "print(\"Root Mean Squared Error:\", rmse_ridge)"
   ]
  },
  {
   "cell_type": "code",
   "execution_count": 93,
   "id": "ca7431e1",
   "metadata": {},
   "outputs": [],
   "source": [
    "lasso_model = LassoCV(alphas=[lasso_model.alpha_]).fit(X_train, y_train)\n",
    "y_pred_lasso = lasso_model.predict(X_test)\n",
    "r2_lasso = r2_score(y_test, y_pred_lasso)\n",
    "mse_lasso = mean_squared_error(y_test, y_pred_lasso)\n",
    "rmse_lasso = np.sqrt(mse_lasso)"
   ]
  },
  {
   "cell_type": "code",
   "execution_count": 94,
   "id": "cec9c9f7",
   "metadata": {},
   "outputs": [
    {
     "name": "stdout",
     "output_type": "stream",
     "text": [
      "\n",
      "Lasso Regression Test Set Metrics:\n",
      "R-squared Score: 0.6902208767580209\n",
      "Root Mean Squared Error: 0.8396969973873064\n"
     ]
    }
   ],
   "source": [
    "print(\"\\nLasso Regression Test Set Metrics:\")\n",
    "print(\"R-squared Score:\", r2_lasso)\n",
    "print(\"Root Mean Squared Error:\", rmse_lasso)"
   ]
  },
  {
   "cell_type": "raw",
   "id": "1e16de6e",
   "metadata": {},
   "source": [
    "the Ridge regression model performed exceptionally well on the test set,\n",
    "with a very high R-squared score close to 1 and a very low RMSE. \n",
    "On the other hand, the Lasso regression model has a lower R-squared score and a higher RMSE compared to Ridge regression,\n",
    "indicating that it might not fit the data as well as Ridge regression."
   ]
  },
  {
   "cell_type": "code",
   "execution_count": null,
   "id": "043f3e1e",
   "metadata": {},
   "outputs": [],
   "source": []
  }
 ],
 "metadata": {
  "kernelspec": {
   "display_name": "Python 3 (ipykernel)",
   "language": "python",
   "name": "python3"
  },
  "language_info": {
   "codemirror_mode": {
    "name": "ipython",
    "version": 3
   },
   "file_extension": ".py",
   "mimetype": "text/x-python",
   "name": "python",
   "nbconvert_exporter": "python",
   "pygments_lexer": "ipython3",
   "version": "3.11.3"
  }
 },
 "nbformat": 4,
 "nbformat_minor": 5
}
